{
  "nbformat": 4,
  "nbformat_minor": 0,
  "metadata": {
    "colab": {
      "name": "imdb-dataset.ipynb",
      "provenance": [],
      "collapsed_sections": [],
      "authorship_tag": "ABX9TyNtWwZLTiljP2VLdymekSM2",
      "include_colab_link": true
    },
    "kernelspec": {
      "name": "python3",
      "display_name": "Python 3"
    }
  },
  "cells": [
    {
      "cell_type": "markdown",
      "metadata": {
        "id": "view-in-github",
        "colab_type": "text"
      },
      "source": [
        "<a href=\"https://colab.research.google.com/github/SyedMuhammadMuhsinKarim/Deep-Learning-with-Python/blob/master/imdb_dataset.ipynb\" target=\"_parent\"><img src=\"https://colab.research.google.com/assets/colab-badge.svg\" alt=\"Open In Colab\"/></a>"
      ]
    },
    {
      "cell_type": "code",
      "metadata": {
        "id": "SyTBIUttKdza",
        "colab_type": "code",
        "colab": {}
      },
      "source": [
        "# !pip install tensorflow --upgrade"
      ],
      "execution_count": 0,
      "outputs": []
    },
    {
      "cell_type": "code",
      "metadata": {
        "id": "rZEEfyMhJQXz",
        "colab_type": "code",
        "colab": {}
      },
      "source": [
        "import tensorflow as tf\n",
        "from tensorflow.keras.datasets import imdb\n",
        "from tensorflow.keras import models, layers, optimizers\n",
        "import numpy as np\n",
        "import matplotlib.pyplot as plt"
      ],
      "execution_count": 0,
      "outputs": []
    },
    {
      "cell_type": "code",
      "metadata": {
        "id": "c-zsxmIdKQ0B",
        "colab_type": "code",
        "colab": {}
      },
      "source": [
        "(train_data, train_label),(test_data, test_label) = imdb.load_data(num_words=10000)"
      ],
      "execution_count": 0,
      "outputs": []
    },
    {
      "cell_type": "code",
      "metadata": {
        "id": "6FBbQpmEO5Es",
        "colab_type": "code",
        "colab": {}
      },
      "source": [
        "word_index = imdb.get_word_index()"
      ],
      "execution_count": 0,
      "outputs": []
    },
    {
      "cell_type": "code",
      "metadata": {
        "id": "zTkNduvQPBTS",
        "colab_type": "code",
        "colab": {}
      },
      "source": [
        "print(word_index)"
      ],
      "execution_count": 0,
      "outputs": []
    },
    {
      "cell_type": "code",
      "metadata": {
        "id": "T7ZnODO1PSrT",
        "colab_type": "code",
        "colab": {}
      },
      "source": [
        "reverse_word_index = dict([(value, key) for (key, value) in word_index.items()])"
      ],
      "execution_count": 0,
      "outputs": []
    },
    {
      "cell_type": "code",
      "metadata": {
        "id": "W3ZN-Ix9PsE4",
        "colab_type": "code",
        "colab": {}
      },
      "source": [
        "reverse_word_index"
      ],
      "execution_count": 0,
      "outputs": []
    },
    {
      "cell_type": "code",
      "metadata": {
        "id": "Jpz-mhK0PtvH",
        "colab_type": "code",
        "colab": {}
      },
      "source": [
        "decoded_review = ' '.join([reverse_word_index.get(i-3, '?') for i in train_data[0]])"
      ],
      "execution_count": 0,
      "outputs": []
    },
    {
      "cell_type": "code",
      "metadata": {
        "id": "9sxoUm0GQHvF",
        "colab_type": "code",
        "colab": {}
      },
      "source": [
        "decoded_review"
      ],
      "execution_count": 0,
      "outputs": []
    },
    {
      "cell_type": "markdown",
      "metadata": {
        "id": "MfzzdfwEQcwK",
        "colab_type": "text"
      },
      "source": [
        "# Preparing Test Data"
      ]
    },
    {
      "cell_type": "code",
      "metadata": {
        "id": "LNdh2vBJQLEy",
        "colab_type": "code",
        "colab": {}
      },
      "source": [
        "def vectorize_sequences(sequences, dimension=10000):\n",
        "    results = np.zeros((len(sequences), dimension))     # Create an all-zero matrix of shape (len(sequences), dimension)\n",
        "    for i, sequence in enumerate(sequences):\n",
        "       results[i, sequence] = 1.  # set specific indices of results[i] to 1s\n",
        "    return results"
      ],
      "execution_count": 0,
      "outputs": []
    },
    {
      "cell_type": "code",
      "metadata": {
        "id": "p22VamyJQhFJ",
        "colab_type": "code",
        "outputId": "efbf115e-9cb7-4515-d71e-6b4a3954ffa8",
        "colab": {
          "base_uri": "https://localhost:8080/",
          "height": 50
        }
      },
      "source": [
        "x_train = vectorize_sequences(train_data)\n",
        "x_test = vectorize_sequences(test_data)\n",
        "print(x_test[0], \"\\n\", x_train[0])"
      ],
      "execution_count": 0,
      "outputs": [
        {
          "output_type": "stream",
          "text": [
            "[0. 1. 1. ... 0. 0. 0.] \n",
            " [0. 1. 1. ... 0. 0. 0.]\n"
          ],
          "name": "stdout"
        }
      ]
    },
    {
      "cell_type": "code",
      "metadata": {
        "id": "Z4Af5rOLRj0i",
        "colab_type": "code",
        "outputId": "b1b7de40-2499-47a9-a7c3-0e9834a3db98",
        "colab": {
          "base_uri": "https://localhost:8080/",
          "height": 34
        }
      },
      "source": [
        "y_train = np.asarray(train_label).astype('float')\n",
        "y_test = np.asarray(test_label).astype('float')\n",
        "print(y_test, y_train)"
      ],
      "execution_count": 0,
      "outputs": [
        {
          "output_type": "stream",
          "text": [
            "[0. 1. 1. ... 0. 0. 0.] [1. 0. 0. ... 0. 1. 0.]\n"
          ],
          "name": "stdout"
        }
      ]
    },
    {
      "cell_type": "code",
      "metadata": {
        "id": "3FQic4FSU0Xy",
        "colab_type": "code",
        "colab": {}
      },
      "source": [
        "from keras import regularizers\n",
        "\n",
        "model = models.Sequential()\n",
        "model.add(layers.Dense(12, kernel_regularizer=regularizers.l2(0.001), activation=\"relu\", input_shape = (10000, )))\n",
        "model.add(layers.Dropout(0.5))\n",
        "model.add(layers.Dense(12, kernel_regularizer=regularizers.l2(0.001), activation=\"relu\"))\n",
        "model.add(layers.Dropout(0.5))\n",
        "model.add(layers.Dense(1, activation='sigmoid'))"
      ],
      "execution_count": 0,
      "outputs": []
    },
    {
      "cell_type": "code",
      "metadata": {
        "id": "f_iekESTWWtL",
        "colab_type": "code",
        "outputId": "294030c4-b254-4f7c-f13b-c2d74ca35796",
        "colab": {
          "base_uri": "https://localhost:8080/",
          "height": 34
        }
      },
      "source": [
        "x_val = x_train[:10000] # (10000, 10000)\n",
        "partial_x_train = x_train[10000:] # (15000, 10000)\n",
        "y_val = y_train[:10000] # (10000,) \n",
        "partial_y_train = y_train[10000:]  # (15000,)\n",
        "\n",
        "print(x_val.shape, partial_x_train.shape, y_val.shape, partial_y_train.shape)"
      ],
      "execution_count": 0,
      "outputs": [
        {
          "output_type": "stream",
          "text": [
            "(10000, 10000) (15000, 10000) (10000,) (15000,)\n"
          ],
          "name": "stdout"
        }
      ]
    },
    {
      "cell_type": "code",
      "metadata": {
        "id": "e4qDcZAKXQit",
        "colab_type": "code",
        "colab": {}
      },
      "source": [
        "model.compile(\n",
        "    optimizer='rmsprop', \n",
        "    loss='binary_crossentropy', \n",
        "    metrics=[\"accuracy\"]\n",
        ")"
      ],
      "execution_count": 0,
      "outputs": []
    },
    {
      "cell_type": "code",
      "metadata": {
        "id": "Tp5ifTD-X3q3",
        "colab_type": "code",
        "outputId": "bd049e67-dbd5-49ec-c909-122b46895291",
        "colab": {
          "base_uri": "https://localhost:8080/",
          "height": 706
        }
      },
      "source": [
        "history = model.fit(partial_x_train, partial_y_train, epochs=20, batch_size=500, validation_data=(x_val, y_val))"
      ],
      "execution_count": 0,
      "outputs": [
        {
          "output_type": "stream",
          "text": [
            "Train on 15000 samples, validate on 10000 samples\n",
            "Epoch 1/20\n",
            "15000/15000 [==============================] - 2s 143us/sample - loss: 0.6778 - accuracy: 0.6023 - val_loss: 0.5827 - val_accuracy: 0.8136\n",
            "Epoch 2/20\n",
            "15000/15000 [==============================] - 2s 108us/sample - loss: 0.5781 - accuracy: 0.7273 - val_loss: 0.4802 - val_accuracy: 0.8666\n",
            "Epoch 3/20\n",
            "15000/15000 [==============================] - 2s 105us/sample - loss: 0.5043 - accuracy: 0.7873 - val_loss: 0.4196 - val_accuracy: 0.8742\n",
            "Epoch 4/20\n",
            "15000/15000 [==============================] - 2s 105us/sample - loss: 0.4494 - accuracy: 0.8254 - val_loss: 0.3692 - val_accuracy: 0.8816\n",
            "Epoch 5/20\n",
            "15000/15000 [==============================] - 2s 105us/sample - loss: 0.4074 - accuracy: 0.8518 - val_loss: 0.3442 - val_accuracy: 0.8844\n",
            "Epoch 6/20\n",
            "15000/15000 [==============================] - 2s 107us/sample - loss: 0.3788 - accuracy: 0.8718 - val_loss: 0.3350 - val_accuracy: 0.8820\n",
            "Epoch 7/20\n",
            "15000/15000 [==============================] - 2s 110us/sample - loss: 0.3552 - accuracy: 0.8855 - val_loss: 0.3252 - val_accuracy: 0.8853\n",
            "Epoch 8/20\n",
            "15000/15000 [==============================] - 2s 109us/sample - loss: 0.3264 - accuracy: 0.8989 - val_loss: 0.3226 - val_accuracy: 0.8858\n",
            "Epoch 9/20\n",
            "15000/15000 [==============================] - 2s 106us/sample - loss: 0.3091 - accuracy: 0.9081 - val_loss: 0.3258 - val_accuracy: 0.8865\n",
            "Epoch 10/20\n",
            "15000/15000 [==============================] - 2s 104us/sample - loss: 0.2943 - accuracy: 0.9154 - val_loss: 0.3389 - val_accuracy: 0.8868\n",
            "Epoch 11/20\n",
            "15000/15000 [==============================] - 2s 107us/sample - loss: 0.2840 - accuracy: 0.9178 - val_loss: 0.3536 - val_accuracy: 0.8844\n",
            "Epoch 12/20\n",
            "15000/15000 [==============================] - 2s 108us/sample - loss: 0.2728 - accuracy: 0.9194 - val_loss: 0.3538 - val_accuracy: 0.8859\n",
            "Epoch 13/20\n",
            "15000/15000 [==============================] - 2s 106us/sample - loss: 0.2636 - accuracy: 0.9266 - val_loss: 0.3536 - val_accuracy: 0.8841\n",
            "Epoch 14/20\n",
            "15000/15000 [==============================] - 2s 107us/sample - loss: 0.2557 - accuracy: 0.9279 - val_loss: 0.3660 - val_accuracy: 0.8798\n",
            "Epoch 15/20\n",
            "15000/15000 [==============================] - 2s 109us/sample - loss: 0.2471 - accuracy: 0.9320 - val_loss: 0.3777 - val_accuracy: 0.8829\n",
            "Epoch 16/20\n",
            "15000/15000 [==============================] - 2s 105us/sample - loss: 0.2416 - accuracy: 0.9366 - val_loss: 0.3924 - val_accuracy: 0.8814\n",
            "Epoch 17/20\n",
            "15000/15000 [==============================] - 2s 107us/sample - loss: 0.2377 - accuracy: 0.9361 - val_loss: 0.3893 - val_accuracy: 0.8816\n",
            "Epoch 18/20\n",
            "15000/15000 [==============================] - 2s 110us/sample - loss: 0.2313 - accuracy: 0.9372 - val_loss: 0.3885 - val_accuracy: 0.8783\n",
            "Epoch 19/20\n",
            "15000/15000 [==============================] - 2s 109us/sample - loss: 0.2322 - accuracy: 0.9359 - val_loss: 0.3911 - val_accuracy: 0.8808\n",
            "Epoch 20/20\n",
            "15000/15000 [==============================] - 2s 108us/sample - loss: 0.2318 - accuracy: 0.9368 - val_loss: 0.3988 - val_accuracy: 0.8722\n"
          ],
          "name": "stdout"
        }
      ]
    },
    {
      "cell_type": "code",
      "metadata": {
        "id": "qlQ9kEk9Yk17",
        "colab_type": "code",
        "outputId": "fda90f6b-2cea-4988-8078-40d842f4c81a",
        "colab": {
          "base_uri": "https://localhost:8080/",
          "height": 54
        }
      },
      "source": [
        "history_dict = history.history\n",
        "print(history_dict)"
      ],
      "execution_count": 0,
      "outputs": [
        {
          "output_type": "stream",
          "text": [
            "{'loss': [0.6830476303895314, 0.6453174173831939, 0.6206962108612061, 0.5974998593330383, 0.5846814195315043, 0.5725487510363261, 0.5625012159347534, 0.5510851124922435, 0.5441118121147156, 0.5374017179012298, 0.5287476678689321, 0.5243554184834163, 0.5213067183891932, 0.5101700494686763, 0.5026979794104894, 0.4975617329279582, 0.49682471056779226, 0.4877864976723989, 0.48078134457270305, 0.48362625936667125], 'accuracy': [0.5413333, 0.56553334, 0.5984, 0.6292667, 0.6442, 0.6709333, 0.6918, 0.7033333, 0.70933336, 0.7216, 0.724, 0.733, 0.7367333, 0.74666667, 0.75086665, 0.7574667, 0.7566, 0.7614667, 0.7729333, 0.7664667], 'val_loss': [0.6492361068725586, 0.5910679548978806, 0.558003842830658, 0.5330578982830048, 0.5065250754356384, 0.4939986318349838, 0.4712801933288574, 0.44654163271188735, 0.4424300596117973, 0.430890266597271, 0.4224883869290352, 0.40790132284164426, 0.3998320311307907, 0.3901719316840172, 0.37859764248132705, 0.38223020285367965, 0.3764791190624237, 0.37448529303073885, 0.36004161536693574, 0.36219708770513537], 'val_accuracy': [0.814, 0.8482, 0.8689, 0.8729, 0.8812, 0.8813, 0.8874, 0.8856, 0.8874, 0.8876, 0.8881, 0.8886, 0.8871, 0.8848, 0.8865, 0.8834, 0.8795, 0.8808, 0.8855, 0.8833]}\n"
          ],
          "name": "stdout"
        }
      ]
    },
    {
      "cell_type": "code",
      "metadata": {
        "id": "2aXtMBWQZCPN",
        "colab_type": "code",
        "outputId": "fd9465c1-9973-4eeb-e0fd-091687506fa6",
        "colab": {
          "base_uri": "https://localhost:8080/",
          "height": 564
        }
      },
      "source": [
        "history_dict = history.history\n",
        "loss_values = history_dict['loss']\n",
        "val_loss_values = history_dict['val_loss']\n",
        "epochs = range(1, len(loss_values) + 1)\n",
        "plt.plot(epochs, loss_values, 'bo', label=\"Training Loss\")\n",
        "plt.plot(epochs, val_loss_values, 'b', label=\"Validation Loss\")\n",
        "plt.xlabel('Epochs')\n",
        "plt.ylabel('loss')\n",
        "plt.legend()\n",
        "plt.show()\n",
        "plt.clf()\n",
        "acc_values = history_dict['accuracy']\n",
        "val_acc_values = history_dict['val_accuracy']\n",
        "plt.plot(epochs, acc_values, 'bo', label=\"Training Acc\")\n",
        "plt.plot(epochs, val_acc_values, 'b', label=\"Validation Acc\")\n",
        "plt.xlabel('Epochs')\n",
        "plt.ylabel('Accuracy')\n",
        "plt.legend()\n",
        "plt.show()\n",
        "plt.clf()"
      ],
      "execution_count": 0,
      "outputs": [
        {
          "output_type": "display_data",
          "data": {
            "image/png": "[encoded data removed]",
            "text/plain": [
              "<Figure size 432x288 with 1 Axes>"
            ]
          },
          "metadata": {
            "tags": []
          }
        },
        {
          "output_type": "display_data",
          "data": {
            "image/png": "[encoded data removed]",
            "text/plain": [
              "<Figure size 432x288 with 1 Axes>"
            ]
          },
          "metadata": {
            "tags": []
          }
        },
        {
          "output_type": "display_data",
          "data": {
            "text/plain": [
              "<Figure size 432x288 with 0 Axes>"
            ]
          },
          "metadata": {
            "tags": []
          }
        }
      ]
    },
    {
      "cell_type": "code",
      "metadata": {
        "id": "6Y4KeRsOh_m6",
        "colab_type": "code",
        "outputId": "53ca2867-3e9c-45a6-ad4e-8df5fd42c272",
        "colab": {
          "base_uri": "https://localhost:8080/",
          "height": 50
        }
      },
      "source": [
        "loss_values = history_dict['loss']\n",
        "loss_values = np.asarray(loss_values).astype('float').mean() * 100\n",
        "val_loss_values = history_dict['val_loss']\n",
        "val_loss_values = np.asarray(val_loss_values).astype('float').mean()* 100\n",
        "acc_values = history_dict['accuracy']\n",
        "acc_values = np.asarray(acc_values).astype('float').mean()* 100\n",
        "val_acc_values = history_dict['val_accuracy']\n",
        "val_acc_values = np.asarray(val_acc_values).astype('float').mean()* 100\n",
        "print(loss_values, val_loss_values,\"\\n\", acc_values, val_acc_values)"
      ],
      "execution_count": 0,
      "outputs": [
        {
          "output_type": "stream",
          "text": [
            "33.89363430688779 38.04054692387581 \n",
            " 87.90033340454102 87.79100060462952\n"
          ],
          "name": "stdout"
        }
      ]
    },
    {
      "cell_type": "code",
      "metadata": {
        "id": "roUrykj3aNiF",
        "colab_type": "code",
        "colab": {}
      },
      "source": [
        "pred = model.predict(x_test).flatten()"
      ],
      "execution_count": 0,
      "outputs": []
    },
    {
      "cell_type": "code",
      "metadata": {
        "colab_type": "code",
        "outputId": "2a19362d-f560-4cc6-b941-a5420d9de310",
        "id": "ARVWXnjvqUS0",
        "colab": {
          "base_uri": "https://localhost:8080/",
          "height": 34
        }
      },
      "source": [
        "import pandas as pd\n",
        "diff =  y_test - (pred)\n",
        "loss = pd.Series(np.abs(diff)).mean() * 100\n",
        "print(\"accuracy:\", 100 - loss)"
      ],
      "execution_count": 0,
      "outputs": [
        {
          "output_type": "stream",
          "text": [
            "accuracy: 83.89923501009359\n"
          ],
          "name": "stdout"
        }
      ]
    },
    {
      "cell_type": "code",
      "metadata": {
        "id": "-XhVg2WLmFoL",
        "colab_type": "code",
        "colab": {}
      },
      "source": [
        ""
      ],
      "execution_count": 0,
      "outputs": []
    }
  ]
}