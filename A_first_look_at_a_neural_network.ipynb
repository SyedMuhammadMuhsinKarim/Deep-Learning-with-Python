{
  "nbformat": 4,
  "nbformat_minor": 0,
  "metadata": {
    "colab": {
      "name": "A first look at a neural network.ipynb",
      "provenance": [],
      "collapsed_sections": [
        "P9TFppefjSqi"
      ],
      "include_colab_link": true
    },
    "kernelspec": {
      "name": "python3",
      "display_name": "Python 3"
    }
  },
  "cells": [
    {
      "cell_type": "markdown",
      "metadata": {
        "id": "view-in-github",
        "colab_type": "text"
      },
      "source": [
        "<a href=\"https://colab.research.google.com/github/SyedMuhammadMuhsinKarim/Deep-Learning-with-Python/blob/master/A_first_look_at_a_neural_network.ipynb\" target=\"_parent\"><img src=\"https://colab.research.google.com/assets/colab-badge.svg\" alt=\"Open In Colab\"/></a>"
      ]
    },
    {
      "cell_type": "markdown",
      "metadata": {
        "id": "TP7VHQd0kCDH",
        "colab_type": "text"
      },
      "source": [
        "# **A first look at a neural network**"
      ]
    },
    {
      "cell_type": "markdown",
      "metadata": {
        "id": "P9TFppefjSqi",
        "colab_type": "text"
      },
      "source": [
        "**Note on classes and labels**\n",
        "\n",
        "In machine learning, \n",
        "* a category in a classification problem is called a class. \n",
        "* Data points are called samples.\n",
        "* The class associated with a specific sample is called a label.\n"
      ]
    },
    {
      "cell_type": "code",
      "metadata": {
        "id": "q6JHcEMjlG5t",
        "colab_type": "code",
        "colab": {
          "base_uri": "https://localhost:8080/",
          "height": 84
        },
        "outputId": "6a4e65e2-08e5-45de-f8bb-e4966cae2677"
      },
      "source": [
        "# !pip install keras.datasets"
      ],
      "execution_count": 71,
      "outputs": [
        {
          "output_type": "stream",
          "text": [
            "Collecting keras.datasets\n",
            "  Using cached https://files.pythonhosted.org/packages/07/20/9ed10cd3247cc29c362c77c52d820928ab4f955b7e1ba9e77a288b4c5f3c/keras_datasets-0.1.0-py2.py3-none-any.whl\n",
            "Installing collected packages: keras.datasets\n",
            "Successfully installed keras.datasets\n"
          ],
          "name": "stdout"
        }
      ]
    },
    {
      "cell_type": "code",
      "metadata": {
        "id": "LnOaZlsNlkDf",
        "colab_type": "code",
        "colab": {}
      },
      "source": [
        "import tensorflow.compat.v1 as tf\n",
        "tf.disable_v2_behavior()"
      ],
      "execution_count": 0,
      "outputs": []
    },
    {
      "cell_type": "code",
      "metadata": {
        "id": "wVhW3Yx_jBh0",
        "colab_type": "code",
        "colab": {}
      },
      "source": [
        "from keras.datasets import mnist \n",
        "# MNIST dataset comes preloaded in Keras\n",
        "# set of four Numpy array"
      ],
      "execution_count": 0,
      "outputs": []
    },
    {
      "cell_type": "markdown",
      "metadata": {
        "id": "4EKtSiIZmFRT",
        "colab_type": "text"
      },
      "source": [
        "* `train_images` and `train_labels` form the training set, the data that the model will learn from. \n",
        "* The model will then be tested on the test set, `test_images` and `test_labels`."
      ]
    },
    {
      "cell_type": "code",
      "metadata": {
        "id": "NR8d0zKqlxCV",
        "colab_type": "code",
        "colab": {}
      },
      "source": [
        "(train_images, train_labels), (test_images, test_labels) = mnist.load_data()"
      ],
      "execution_count": 0,
      "outputs": []
    },
    {
      "cell_type": "code",
      "metadata": {
        "id": "9YAtUk2Dmq09",
        "colab_type": "code",
        "colab": {}
      },
      "source": [
        "# The Images are encoded as Numpy Array\n",
        "# the Labels are an anrry of digits. (range: 0 to 9)\n",
        "# The Images and Labels have one to one corresponding"
      ],
      "execution_count": 0,
      "outputs": []
    },
    {
      "cell_type": "code",
      "metadata": {
        "id": "Il7pAhyunHtL",
        "colab_type": "code",
        "colab": {
          "base_uri": "https://localhost:8080/",
          "height": 34
        },
        "outputId": "3368ca2f-f492-40fc-dad9-bc5723d5404d"
      },
      "source": [
        "train_images.shape"
      ],
      "execution_count": 76,
      "outputs": [
        {
          "output_type": "execute_result",
          "data": {
            "text/plain": [
              "(60000, 28, 28)"
            ]
          },
          "metadata": {
            "tags": []
          },
          "execution_count": 76
        }
      ]
    },
    {
      "cell_type": "code",
      "metadata": {
        "id": "n9hLsYv0pVHr",
        "colab_type": "code",
        "colab": {
          "base_uri": "https://localhost:8080/",
          "height": 34
        },
        "outputId": "d1dd44c1-cc2f-49a8-bbf6-69b28ac52980"
      },
      "source": [
        "train_images[0].shape"
      ],
      "execution_count": 77,
      "outputs": [
        {
          "output_type": "execute_result",
          "data": {
            "text/plain": [
              "(28, 28)"
            ]
          },
          "metadata": {
            "tags": []
          },
          "execution_count": 77
        }
      ]
    },
    {
      "cell_type": "code",
      "metadata": {
        "id": "0l3yMFCmnUt5",
        "colab_type": "code",
        "colab": {
          "base_uri": "https://localhost:8080/",
          "height": 34
        },
        "outputId": "25581d47-9951-4f70-ddfe-86210dac5818"
      },
      "source": [
        "len(train_labels)"
      ],
      "execution_count": 78,
      "outputs": [
        {
          "output_type": "execute_result",
          "data": {
            "text/plain": [
              "60000"
            ]
          },
          "metadata": {
            "tags": []
          },
          "execution_count": 78
        }
      ]
    },
    {
      "cell_type": "code",
      "metadata": {
        "id": "HwSd94MHntjy",
        "colab_type": "code",
        "colab": {
          "base_uri": "https://localhost:8080/",
          "height": 34
        },
        "outputId": "bc7b624c-fcb1-4336-d586-f55bb6bde93b"
      },
      "source": [
        "train_labels # return array of train_label"
      ],
      "execution_count": 79,
      "outputs": [
        {
          "output_type": "execute_result",
          "data": {
            "text/plain": [
              "array([5, 0, 4, ..., 5, 6, 8], dtype=uint8)"
            ]
          },
          "metadata": {
            "tags": []
          },
          "execution_count": 79
        }
      ]
    },
    {
      "cell_type": "code",
      "metadata": {
        "id": "zI5XWUibny4F",
        "colab_type": "code",
        "colab": {
          "base_uri": "https://localhost:8080/",
          "height": 34
        },
        "outputId": "fa2a6c46-2693-4a69-d28c-c0a820cfb8d6"
      },
      "source": [
        "test_images.shape"
      ],
      "execution_count": 80,
      "outputs": [
        {
          "output_type": "execute_result",
          "data": {
            "text/plain": [
              "(10000, 28, 28)"
            ]
          },
          "metadata": {
            "tags": []
          },
          "execution_count": 80
        }
      ]
    },
    {
      "cell_type": "code",
      "metadata": {
        "id": "0BpF5W0joexr",
        "colab_type": "code",
        "colab": {
          "base_uri": "https://localhost:8080/",
          "height": 34
        },
        "outputId": "ea080417-612f-4f8a-bf24-f85718b33df2"
      },
      "source": [
        "len(test_labels)"
      ],
      "execution_count": 81,
      "outputs": [
        {
          "output_type": "execute_result",
          "data": {
            "text/plain": [
              "10000"
            ]
          },
          "metadata": {
            "tags": []
          },
          "execution_count": 81
        }
      ]
    },
    {
      "cell_type": "code",
      "metadata": {
        "id": "_ngeITK8oixv",
        "colab_type": "code",
        "colab": {
          "base_uri": "https://localhost:8080/",
          "height": 34
        },
        "outputId": "63707b2d-be6e-4370-daf8-fc6ef4c3fc28"
      },
      "source": [
        "test_labels # return array of test label"
      ],
      "execution_count": 82,
      "outputs": [
        {
          "output_type": "execute_result",
          "data": {
            "text/plain": [
              "array([7, 2, 1, ..., 4, 5, 6], dtype=uint8)"
            ]
          },
          "metadata": {
            "tags": []
          },
          "execution_count": 82
        }
      ]
    },
    {
      "cell_type": "markdown",
      "metadata": {
        "id": "KcnKtQ7cy5yl",
        "colab_type": "text"
      },
      "source": [
        "**The network architecture**\n",
        "\n",
        "Let’s build the network—again, remember that you aren’t expected to understand\n",
        "everything about this example yet."
      ]
    },
    {
      "cell_type": "code",
      "metadata": {
        "id": "FQXmL5Vgoo1l",
        "colab_type": "code",
        "colab": {}
      },
      "source": [
        "from keras import models\n",
        "from keras import layers"
      ],
      "execution_count": 0,
      "outputs": []
    },
    {
      "cell_type": "code",
      "metadata": {
        "id": "aEH28qjszbPj",
        "colab_type": "code",
        "colab": {}
      },
      "source": [
        "network = models.Sequential()\n",
        "\n",
        "layer_one = layers.Dense(512, activation='relu', input_shape=(28 * 28,))\n",
        "layer_two = layers.Dense(10, activation='softmax')\n",
        "\n",
        "network.add(layer_one)\n",
        "network.add(layer_two)"
      ],
      "execution_count": 0,
      "outputs": []
    },
    {
      "cell_type": "markdown",
      "metadata": {
        "id": "JrQDwC5n8rT-",
        "colab_type": "text"
      },
      "source": [
        " * core building block of neural networks is the layer\n",
        " * a data-processing module that\n",
        "you can think of as a filter for data. Some data goes in, and it comes out in a more useful form.\n",
        " *  Here, our network consists of a sequence of two Dense layers, which are densely\n",
        "connected (also called fully connected) neural layers\n",
        " * The second (and last) layer is a\n",
        "10-way softmax layer, which means it will return an array of 10 probability scores (summing to 1). Each score will be the probability that the current digit image belongs to\n",
        "one of our 10 digit classes."
      ]
    },
    {
      "cell_type": "markdown",
      "metadata": {
        "id": "zy_2JTmxZ5kc",
        "colab_type": "text"
      },
      "source": [
        "**The compilation step**\n",
        "\n",
        "To make the network ready for training, we need to pick three more things, as part\n",
        "of the compilation step:\n",
        "* A loss function—How the network will be able to measure its performance on\n",
        "the training data, and thus how it will be able to steer itself in the right direction.\n",
        "* An optimizer—The mechanism through which the network will update itself\n",
        "based on the data it sees and its loss function.\n",
        "* Metrics to monitor during training and testing—Here, we’ll only care about accuracy (the fraction of the images that were correctly classified).\n",
        "The exact purpose of the loss function and the optimizer will be made clear throughout the next two chapters.\n",
        "\n"
      ]
    },
    {
      "cell_type": "code",
      "metadata": {
        "id": "u1Bw8EbjX_UY",
        "colab_type": "code",
        "colab": {}
      },
      "source": [
        "network.compile(\n",
        "    optimizer='rmsprop', \n",
        "    loss='categorical_crossentropy',\n",
        "    metrics=['accuracy'])"
      ],
      "execution_count": 0,
      "outputs": []
    },
    {
      "cell_type": "markdown",
      "metadata": {
        "id": "ywLMsamvZ0Es",
        "colab_type": "text"
      },
      "source": [
        "* Before training, we’ll preprocess the data by reshaping it into the shape the network\n",
        "expects and scaling it so that all values are in the [0, 1] interval. \n",
        "* Previously, our training images, for instance, were stored in an array of shape (60000 image, 28 row, 28 col) of type\n",
        "uint8 with values in the [0, 255] interval. \n",
        "* We transform it into a float32 array of\n",
        "shape (60000, 28 * 28) with values between 0 and 1."
      ]
    },
    {
      "cell_type": "markdown",
      "metadata": {
        "id": "AzlTg3ZYaAoO",
        "colab_type": "text"
      },
      "source": [
        "**Preparing the image data**"
      ]
    },
    {
      "cell_type": "code",
      "metadata": {
        "id": "3eQGFqMvaHoE",
        "colab_type": "code",
        "colab": {
          "base_uri": "https://localhost:8080/",
          "height": 34
        },
        "outputId": "8c09a390-0bac-40c4-daf9-236fac0d323f"
      },
      "source": [
        "# Train Image\n",
        "train_images = train_images.reshape((60000, 28 * 28))\n",
        "train_images = train_images.astype('float32') / 255\n",
        "\n",
        "# Test Image\n",
        "test_images = test_images.reshape((10000, 28 * 28))\n",
        "test_images = test_images.astype('float32') / 255\n",
        "\n",
        "print(train_images.shape)"
      ],
      "execution_count": 86,
      "outputs": [
        {
          "output_type": "stream",
          "text": [
            "(60000, 784)\n"
          ],
          "name": "stdout"
        }
      ]
    },
    {
      "cell_type": "markdown",
      "metadata": {
        "id": "XzsZ8zWZeBOq",
        "colab_type": "text"
      },
      "source": [
        "**Preparing the labels**\n",
        "\n",
        "We also need to categorically encode the labels"
      ]
    },
    {
      "cell_type": "code",
      "metadata": {
        "id": "_qtGlEsreL3R",
        "colab_type": "code",
        "colab": {}
      },
      "source": [
        "from keras.utils import to_categorical\n",
        "\n",
        "train_labels = to_categorical(train_labels)\n",
        "test_labels = to_categorical(test_labels)"
      ],
      "execution_count": 0,
      "outputs": []
    },
    {
      "cell_type": "markdown",
      "metadata": {
        "id": "WFVXrjgUeVAS",
        "colab_type": "text"
      },
      "source": [
        "We’re now ready to train the network, which in Keras is done via a call to the network’s fit method—we fit the model to its training data:\n"
      ]
    },
    {
      "cell_type": "code",
      "metadata": {
        "id": "FVuJ9vhveVXJ",
        "colab_type": "code",
        "colab": {
          "base_uri": "https://localhost:8080/",
          "height": 202
        },
        "outputId": "5d9afefc-e0b9-4739-e6db-f274c47fe893"
      },
      "source": [
        "network.fit(train_images, train_labels, epochs=5, batch_size=128)"
      ],
      "execution_count": 88,
      "outputs": [
        {
          "output_type": "stream",
          "text": [
            "Epoch 1/5\n",
            "60000/60000 [==============================] - 4s 58us/step - loss: 0.2623 - acc: 0.9232\n",
            "Epoch 2/5\n",
            "60000/60000 [==============================] - 3s 55us/step - loss: 0.1041 - acc: 0.9689\n",
            "Epoch 3/5\n",
            "60000/60000 [==============================] - 3s 55us/step - loss: 0.0680 - acc: 0.9795\n",
            "Epoch 4/5\n",
            "60000/60000 [==============================] - 3s 55us/step - loss: 0.0507 - acc: 0.9849\n",
            "Epoch 5/5\n",
            "60000/60000 [==============================] - 3s 55us/step - loss: 0.0377 - acc: 0.9884\n"
          ],
          "name": "stdout"
        },
        {
          "output_type": "execute_result",
          "data": {
            "text/plain": [
              "<keras.callbacks.History at 0x7f1e8cee8be0>"
            ]
          },
          "metadata": {
            "tags": []
          },
          "execution_count": 88
        }
      ]
    },
    {
      "cell_type": "markdown",
      "metadata": {
        "id": "3N6oryx5eziZ",
        "colab_type": "text"
      },
      "source": [
        "Two quantities are displayed during training: the loss of the network over the training\n",
        "data, and the accuracy of the network over the training data.\n",
        " We quickly reach an accuracy of 0.989 (98.9%) on the training data. Now let’s\n",
        "check that the model performs well on the test set, too:\n",
        "\n",
        "```\n",
        ">>> test_loss, test_acc = network.evaluate(test_images, test_labels)\n",
        ">>> print('test_acc:', test_acc)\n",
        "\n",
        "test_acc: 0.9884\n",
        "```\n"
      ]
    },
    {
      "cell_type": "code",
      "metadata": {
        "id": "PeY3DXUIfV6z",
        "colab_type": "code",
        "colab": {
          "base_uri": "https://localhost:8080/",
          "height": 34
        },
        "outputId": "8a9ab931-4590-4a80-845d-4b861fdfff4e"
      },
      "source": [
        "test_loss, test_acc = network.evaluate(test_images, test_labels)"
      ],
      "execution_count": 89,
      "outputs": [
        {
          "output_type": "stream",
          "text": [
            "10000/10000 [==============================] - 0s 41us/step\n"
          ],
          "name": "stdout"
        }
      ]
    },
    {
      "cell_type": "code",
      "metadata": {
        "id": "gwPgLPwVfW_Q",
        "colab_type": "code",
        "colab": {
          "base_uri": "https://localhost:8080/",
          "height": 34
        },
        "outputId": "8f5498fb-ebef-480e-aacd-57683e0499c9"
      },
      "source": [
        "print('test_acc:', test_acc)"
      ],
      "execution_count": 90,
      "outputs": [
        {
          "output_type": "stream",
          "text": [
            "test_acc: 0.9803\n"
          ],
          "name": "stdout"
        }
      ]
    },
    {
      "cell_type": "markdown",
      "metadata": {
        "id": "fdL1p2Maf8PZ",
        "colab_type": "text"
      },
      "source": [
        "The **test-set accuracy** turns out to be **98.03%**—that’s quite a bit lower than the training\n",
        "set accuracy. \n",
        "\n",
        "This **gap between training accuracy and test accuracy** is an example of\n",
        "**overfitting**: the fact that machine-learning models tend to perform worse on new data\n",
        "than on their training data. \n",
        "Overfitting is a central topic in chapter 3.\n",
        " \n",
        "This concludes our first example—you just saw how you can build and train a neural network to classify handwritten digits in less than 20 lines of Python code. \n",
        "\n",
        "In the\n",
        "next chapter, I’ll go into detail about every moving piece we just previewed and clarify\n",
        "what’s going on behind the scenes. You’ll learn about tensors, the data-storing objects\n",
        "going into the network; tensor operations, which layers are made of; and gradient\n",
        "descent, which allows your network to learn from its training examples. \n"
      ]
    }
  ]
}